{
  "nbformat": 4,
  "nbformat_minor": 0,
  "metadata": {
    "kernelspec": {
      "display_name": "Python 3",
      "language": "python",
      "name": "python3"
    },
    "language_info": {
      "codemirror_mode": {
        "name": "ipython",
        "version": 3
      },
      "file_extension": ".py",
      "mimetype": "text/x-python",
      "name": "python",
      "nbconvert_exporter": "python",
      "pygments_lexer": "ipython3",
      "version": "3.6.3"
    },
    "colab": {
      "name": "etl.ipynb",
      "provenance": []
    }
  },
  "cells": [
    {
      "cell_type": "markdown",
      "metadata": {
        "id": "uUP5zvv8DiQM",
        "colab_type": "text"
      },
      "source": [
        "# Data Modeling with PostgreSQL\n",
        "\n",
        "Processing subset of millionsongs dataset using Postgres.\n",
        "\n",
        "Sample data inside github repo (https://github.com/gyhou/millionsongs)."
      ]
    },
    {
      "cell_type": "markdown",
      "metadata": {
        "editable": true,
        "id": "Qg_MLAVODfuq",
        "colab_type": "text"
      },
      "source": [
        "# ETL Processes\n",
        "This notebook was used to verify the ETL process for each of the tables inside the `etl.py` file"
      ]
    },
    {
      "cell_type": "code",
      "metadata": {
        "editable": true,
        "id": "owwjUkS2Dfus",
        "colab_type": "code",
        "colab": {}
      },
      "source": [
        "import os\n",
        "import glob\n",
        "import psycopg2\n",
        "import pandas as pd\n",
        "from sql_queries import *\n",
        "pd.set_option('display.max_columns', None)\n",
        "pd.set_option('display.max_rows', None)"
      ],
      "execution_count": 0,
      "outputs": []
    },
    {
      "cell_type": "code",
      "metadata": {
        "editable": true,
        "id": "742XvKbGDfuy",
        "colab_type": "code",
        "colab": {}
      },
      "source": [
        "import create_tables\n",
        "create_tables.main()"
      ],
      "execution_count": 0,
      "outputs": []
    },
    {
      "cell_type": "code",
      "metadata": {
        "editable": true,
        "id": "iK6SU0HhDfu2",
        "colab_type": "code",
        "colab": {}
      },
      "source": [
        "host = ''\n",
        "dbname = ''\n",
        "user = '' \n",
        "password = ''\n",
        "conn = psycopg2.connect(f\"host={host} dbname={dbname} user={user} password={password}\")\n",
        "cur = conn.cursor()"
      ],
      "execution_count": 0,
      "outputs": []
    },
    {
      "cell_type": "code",
      "metadata": {
        "editable": true,
        "id": "zV92NRvVDfu6",
        "colab_type": "code",
        "colab": {}
      },
      "source": [
        "def get_files(filepath):\n",
        "    all_files = []\n",
        "    for root, dirs, files in os.walk(filepath):\n",
        "        files = glob.glob(os.path.join(root,'*.json'))\n",
        "        for f in files :\n",
        "            all_files.append(os.path.abspath(f))\n",
        "    \n",
        "    return all_files"
      ],
      "execution_count": 0,
      "outputs": []
    },
    {
      "cell_type": "markdown",
      "metadata": {
        "editable": true,
        "id": "meUZ9LKIDfu-",
        "colab_type": "text"
      },
      "source": [
        "# Process `song_data`\n",
        "Perform ETL on the first dataset, `song_data`, to create the `songs` and `artists` dimensional tables, and load records into each table.\n",
        "\n",
        "- Use the `get_files` function above to get a list of all song JSON files in `data/song_data`\n",
        "- Read the song file and view the data"
      ]
    },
    {
      "cell_type": "code",
      "metadata": {
        "editable": true,
        "id": "bs2HVSoBDfu_",
        "colab_type": "code",
        "colab": {}
      },
      "source": [
        "song_files = get_files('data/song_data')"
      ],
      "execution_count": 0,
      "outputs": []
    },
    {
      "cell_type": "code",
      "metadata": {
        "editable": true,
        "id": "HXiziY0NDfvK",
        "colab_type": "code",
        "colab": {},
        "outputId": "a4ba2e2f-135e-4e29-b19a-9142ad43b850"
      },
      "source": [
        "# Combine all songs dataset\n",
        "df_list = []\n",
        "for filepath in song_files:\n",
        "    df = pd.read_json(filepath, lines=True)\n",
        "    df_list.append(df)\n",
        "df = pd.concat(df_list)\n",
        "print(df.shape)\n",
        "df.head()"
      ],
      "execution_count": 0,
      "outputs": [
        {
          "output_type": "stream",
          "text": [
            "(72, 10)\n"
          ],
          "name": "stdout"
        },
        {
          "output_type": "execute_result",
          "data": {
            "text/html": [
              "<div>\n",
              "<style scoped>\n",
              "    .dataframe tbody tr th:only-of-type {\n",
              "        vertical-align: middle;\n",
              "    }\n",
              "\n",
              "    .dataframe tbody tr th {\n",
              "        vertical-align: top;\n",
              "    }\n",
              "\n",
              "    .dataframe thead th {\n",
              "        text-align: right;\n",
              "    }\n",
              "</style>\n",
              "<table border=\"1\" class=\"dataframe\">\n",
              "  <thead>\n",
              "    <tr style=\"text-align: right;\">\n",
              "      <th></th>\n",
              "      <th>artist_id</th>\n",
              "      <th>artist_latitude</th>\n",
              "      <th>artist_location</th>\n",
              "      <th>artist_longitude</th>\n",
              "      <th>artist_name</th>\n",
              "      <th>duration</th>\n",
              "      <th>num_songs</th>\n",
              "      <th>song_id</th>\n",
              "      <th>title</th>\n",
              "      <th>year</th>\n",
              "    </tr>\n",
              "  </thead>\n",
              "  <tbody>\n",
              "    <tr>\n",
              "      <th>0</th>\n",
              "      <td>AR8IEZO1187B99055E</td>\n",
              "      <td>NaN</td>\n",
              "      <td></td>\n",
              "      <td>NaN</td>\n",
              "      <td>Marc Shaiman</td>\n",
              "      <td>149.86404</td>\n",
              "      <td>1</td>\n",
              "      <td>SOINLJW12A8C13314C</td>\n",
              "      <td>City Slickers</td>\n",
              "      <td>2008</td>\n",
              "    </tr>\n",
              "    <tr>\n",
              "      <th>0</th>\n",
              "      <td>AR558FS1187FB45658</td>\n",
              "      <td>NaN</td>\n",
              "      <td></td>\n",
              "      <td>NaN</td>\n",
              "      <td>40 Grit</td>\n",
              "      <td>75.67628</td>\n",
              "      <td>1</td>\n",
              "      <td>SOGDBUF12A8C140FAA</td>\n",
              "      <td>Intro</td>\n",
              "      <td>2003</td>\n",
              "    </tr>\n",
              "    <tr>\n",
              "      <th>0</th>\n",
              "      <td>ARVBRGZ1187FB4675A</td>\n",
              "      <td>NaN</td>\n",
              "      <td></td>\n",
              "      <td>NaN</td>\n",
              "      <td>Gwen Stefani</td>\n",
              "      <td>290.55955</td>\n",
              "      <td>1</td>\n",
              "      <td>SORRZGD12A6310DBC3</td>\n",
              "      <td>Harajuku Girls</td>\n",
              "      <td>2004</td>\n",
              "    </tr>\n",
              "    <tr>\n",
              "      <th>0</th>\n",
              "      <td>ARNF6401187FB57032</td>\n",
              "      <td>40.79086</td>\n",
              "      <td>New York, NY [Manhattan]</td>\n",
              "      <td>-73.96644</td>\n",
              "      <td>Sophie B. Hawkins</td>\n",
              "      <td>305.16200</td>\n",
              "      <td>1</td>\n",
              "      <td>SONWXQJ12A8C134D94</td>\n",
              "      <td>The Ballad Of Sleeping Beauty</td>\n",
              "      <td>1994</td>\n",
              "    </tr>\n",
              "    <tr>\n",
              "      <th>0</th>\n",
              "      <td>AREVWGE1187B9B890A</td>\n",
              "      <td>-13.44200</td>\n",
              "      <td>Noci (BA)</td>\n",
              "      <td>-41.99520</td>\n",
              "      <td>Bitter End</td>\n",
              "      <td>282.43546</td>\n",
              "      <td>1</td>\n",
              "      <td>SOFCHDR12AB01866EF</td>\n",
              "      <td>Living Hell</td>\n",
              "      <td>0</td>\n",
              "    </tr>\n",
              "  </tbody>\n",
              "</table>\n",
              "</div>"
            ],
            "text/plain": [
              "            artist_id  artist_latitude           artist_location  \\\n",
              "0  AR8IEZO1187B99055E              NaN                             \n",
              "0  AR558FS1187FB45658              NaN                             \n",
              "0  ARVBRGZ1187FB4675A              NaN                             \n",
              "0  ARNF6401187FB57032         40.79086  New York, NY [Manhattan]   \n",
              "0  AREVWGE1187B9B890A        -13.44200                 Noci (BA)   \n",
              "\n",
              "   artist_longitude        artist_name   duration  num_songs  \\\n",
              "0               NaN       Marc Shaiman  149.86404          1   \n",
              "0               NaN            40 Grit   75.67628          1   \n",
              "0               NaN       Gwen Stefani  290.55955          1   \n",
              "0         -73.96644  Sophie B. Hawkins  305.16200          1   \n",
              "0         -41.99520         Bitter End  282.43546          1   \n",
              "\n",
              "              song_id                          title  year  \n",
              "0  SOINLJW12A8C13314C                  City Slickers  2008  \n",
              "0  SOGDBUF12A8C140FAA                          Intro  2003  \n",
              "0  SORRZGD12A6310DBC3                 Harajuku Girls  2004  \n",
              "0  SONWXQJ12A8C134D94  The Ballad Of Sleeping Beauty  1994  \n",
              "0  SOFCHDR12AB01866EF                    Living Hell     0  "
            ]
          },
          "metadata": {
            "tags": []
          },
          "execution_count": 10
        }
      ]
    },
    {
      "cell_type": "markdown",
      "metadata": {
        "id": "EsYXuWLCEVil",
        "colab_type": "text"
      },
      "source": [
        "### Dealing with null values"
      ]
    },
    {
      "cell_type": "code",
      "metadata": {
        "editable": true,
        "id": "cbiUI_exDfvN",
        "colab_type": "code",
        "colab": {},
        "outputId": "9977345e-3825-47b0-8f19-e1b267e054e4"
      },
      "source": [
        "df.isnull().sum()"
      ],
      "execution_count": 0,
      "outputs": [
        {
          "output_type": "execute_result",
          "data": {
            "text/plain": [
              "artist_id            0\n",
              "artist_latitude     41\n",
              "artist_location      0\n",
              "artist_longitude    41\n",
              "artist_name          0\n",
              "duration             0\n",
              "num_songs            0\n",
              "song_id              0\n",
              "title                0\n",
              "year                44\n",
              "loc                 28\n",
              "location             0\n",
              "dtype: int64"
            ]
          },
          "metadata": {
            "tags": []
          },
          "execution_count": 41
        }
      ]
    },
    {
      "cell_type": "code",
      "metadata": {
        "editable": true,
        "id": "OZEvzo67DfvP",
        "colab_type": "code",
        "colab": {},
        "outputId": "61dd0460-9e9a-475d-db4d-4816bcff10a5"
      },
      "source": [
        "# Replacing empty locations with NaN\n",
        "import numpy as np\n",
        "df['artist_location'].replace('', np.nan, inplace=True)\n",
        "df.head()"
      ],
      "execution_count": 0,
      "outputs": [
        {
          "output_type": "execute_result",
          "data": {
            "text/html": [
              "<div>\n",
              "<style scoped>\n",
              "    .dataframe tbody tr th:only-of-type {\n",
              "        vertical-align: middle;\n",
              "    }\n",
              "\n",
              "    .dataframe tbody tr th {\n",
              "        vertical-align: top;\n",
              "    }\n",
              "\n",
              "    .dataframe thead th {\n",
              "        text-align: right;\n",
              "    }\n",
              "</style>\n",
              "<table border=\"1\" class=\"dataframe\">\n",
              "  <thead>\n",
              "    <tr style=\"text-align: right;\">\n",
              "      <th></th>\n",
              "      <th>artist_id</th>\n",
              "      <th>artist_latitude</th>\n",
              "      <th>artist_location</th>\n",
              "      <th>artist_longitude</th>\n",
              "      <th>artist_name</th>\n",
              "      <th>duration</th>\n",
              "      <th>num_songs</th>\n",
              "      <th>song_id</th>\n",
              "      <th>title</th>\n",
              "      <th>year</th>\n",
              "      <th>loc</th>\n",
              "      <th>location</th>\n",
              "    </tr>\n",
              "  </thead>\n",
              "  <tbody>\n",
              "    <tr>\n",
              "      <th>0</th>\n",
              "      <td>AR8IEZO1187B99055E</td>\n",
              "      <td>NaN</td>\n",
              "      <td>NaN</td>\n",
              "      <td>NaN</td>\n",
              "      <td>Marc Shaiman</td>\n",
              "      <td>149.86404</td>\n",
              "      <td>1</td>\n",
              "      <td>SOINLJW12A8C13314C</td>\n",
              "      <td>City Slickers</td>\n",
              "      <td>2008.0</td>\n",
              "      <td>NaN</td>\n",
              "      <td>False</td>\n",
              "    </tr>\n",
              "    <tr>\n",
              "      <th>0</th>\n",
              "      <td>AR558FS1187FB45658</td>\n",
              "      <td>NaN</td>\n",
              "      <td>NaN</td>\n",
              "      <td>NaN</td>\n",
              "      <td>40 Grit</td>\n",
              "      <td>75.67628</td>\n",
              "      <td>1</td>\n",
              "      <td>SOGDBUF12A8C140FAA</td>\n",
              "      <td>Intro</td>\n",
              "      <td>2003.0</td>\n",
              "      <td>NaN</td>\n",
              "      <td>False</td>\n",
              "    </tr>\n",
              "    <tr>\n",
              "      <th>0</th>\n",
              "      <td>ARVBRGZ1187FB4675A</td>\n",
              "      <td>NaN</td>\n",
              "      <td>NaN</td>\n",
              "      <td>NaN</td>\n",
              "      <td>Gwen Stefani</td>\n",
              "      <td>290.55955</td>\n",
              "      <td>1</td>\n",
              "      <td>SORRZGD12A6310DBC3</td>\n",
              "      <td>Harajuku Girls</td>\n",
              "      <td>2004.0</td>\n",
              "      <td>NaN</td>\n",
              "      <td>False</td>\n",
              "    </tr>\n",
              "    <tr>\n",
              "      <th>0</th>\n",
              "      <td>ARNF6401187FB57032</td>\n",
              "      <td>40.79086</td>\n",
              "      <td>New York, NY [Manhattan]</td>\n",
              "      <td>-73.96644</td>\n",
              "      <td>Sophie B. Hawkins</td>\n",
              "      <td>305.16200</td>\n",
              "      <td>1</td>\n",
              "      <td>SONWXQJ12A8C134D94</td>\n",
              "      <td>The Ballad Of Sleeping Beauty</td>\n",
              "      <td>1994.0</td>\n",
              "      <td>New York, NY [Manhattan]</td>\n",
              "      <td>False</td>\n",
              "    </tr>\n",
              "    <tr>\n",
              "      <th>0</th>\n",
              "      <td>AREVWGE1187B9B890A</td>\n",
              "      <td>-13.44200</td>\n",
              "      <td>Noci (BA)</td>\n",
              "      <td>-41.99520</td>\n",
              "      <td>Bitter End</td>\n",
              "      <td>282.43546</td>\n",
              "      <td>1</td>\n",
              "      <td>SOFCHDR12AB01866EF</td>\n",
              "      <td>Living Hell</td>\n",
              "      <td>NaN</td>\n",
              "      <td>Noci (BA)</td>\n",
              "      <td>False</td>\n",
              "    </tr>\n",
              "  </tbody>\n",
              "</table>\n",
              "</div>"
            ],
            "text/plain": [
              "            artist_id  artist_latitude           artist_location  \\\n",
              "0  AR8IEZO1187B99055E              NaN                       NaN   \n",
              "0  AR558FS1187FB45658              NaN                       NaN   \n",
              "0  ARVBRGZ1187FB4675A              NaN                       NaN   \n",
              "0  ARNF6401187FB57032         40.79086  New York, NY [Manhattan]   \n",
              "0  AREVWGE1187B9B890A        -13.44200                 Noci (BA)   \n",
              "\n",
              "   artist_longitude        artist_name   duration  num_songs  \\\n",
              "0               NaN       Marc Shaiman  149.86404          1   \n",
              "0               NaN            40 Grit   75.67628          1   \n",
              "0               NaN       Gwen Stefani  290.55955          1   \n",
              "0         -73.96644  Sophie B. Hawkins  305.16200          1   \n",
              "0         -41.99520         Bitter End  282.43546          1   \n",
              "\n",
              "              song_id                          title    year  \\\n",
              "0  SOINLJW12A8C13314C                  City Slickers  2008.0   \n",
              "0  SOGDBUF12A8C140FAA                          Intro  2003.0   \n",
              "0  SORRZGD12A6310DBC3                 Harajuku Girls  2004.0   \n",
              "0  SONWXQJ12A8C134D94  The Ballad Of Sleeping Beauty  1994.0   \n",
              "0  SOFCHDR12AB01866EF                    Living Hell     NaN   \n",
              "\n",
              "                        loc  location  \n",
              "0                       NaN     False  \n",
              "0                       NaN     False  \n",
              "0                       NaN     False  \n",
              "0  New York, NY [Manhattan]     False  \n",
              "0                 Noci (BA)     False  "
            ]
          },
          "metadata": {
            "tags": []
          },
          "execution_count": 47
        }
      ]
    },
    {
      "cell_type": "code",
      "metadata": {
        "editable": true,
        "id": "AHLXj-gFDfvS",
        "colab_type": "code",
        "colab": {}
      },
      "source": [
        "df.isnull().sum()"
      ],
      "execution_count": 0,
      "outputs": []
    },
    {
      "cell_type": "markdown",
      "metadata": {
        "editable": true,
        "id": "gu4dTK7pDfvV",
        "colab_type": "text"
      },
      "source": [
        "## #1: `songs` Table\n",
        "#### Extract Data for Songs Table\n",
        "- Selecting columns song ID, title, artist ID, year, and duration for `songs` table\n",
        "- Use `df.values` to select just the values from the dataframe\n",
        "- Convert the array to a list and set it to `song_data`"
      ]
    },
    {
      "cell_type": "code",
      "metadata": {
        "editable": true,
        "id": "dz0mod0tDfvV",
        "colab_type": "code",
        "colab": {},
        "outputId": "96e6a11f-e673-4ffa-bddd-c1ad0c799cf7"
      },
      "source": [
        "# Index to select the first (only) record in the dataframe\n",
        "song_data = df[['song_id','title','artist_id','year','duration']].values[0]\n",
        "song_data"
      ],
      "execution_count": 0,
      "outputs": [
        {
          "output_type": "execute_result",
          "data": {
            "text/plain": [
              "array(['SOINLJW12A8C13314C', 'City Slickers', 'AR8IEZO1187B99055E', 2008,\n",
              "       149.86404], dtype=object)"
            ]
          },
          "metadata": {
            "tags": []
          },
          "execution_count": 9
        }
      ]
    },
    {
      "cell_type": "markdown",
      "metadata": {
        "editable": true,
        "id": "Rb7xYaeoDfvY",
        "colab_type": "text"
      },
      "source": [
        "#### Insert Record into Song Table\n",
        "- The `song_table_insert` query in `sql_queries.py` will insert data into the `songs` table\n",
        "- Run the cell below to insert a record for this song into the `songs` table\n",
        "- Run `create_tables.py` before running the cell below to create/reset the `songs` table in the sparkify database."
      ]
    },
    {
      "cell_type": "code",
      "metadata": {
        "editable": true,
        "id": "TP2sVWVDDfvY",
        "colab_type": "code",
        "colab": {}
      },
      "source": [
        "cur.execute(song_table_insert, song_data)\n",
        "conn.commit()"
      ],
      "execution_count": 0,
      "outputs": []
    },
    {
      "cell_type": "markdown",
      "metadata": {
        "editable": true,
        "id": "h6ut8dxGDfva",
        "colab_type": "text"
      },
      "source": [
        "Run `test.ipynb` to see if data was successfully added a record to this table."
      ]
    },
    {
      "cell_type": "markdown",
      "metadata": {
        "editable": true,
        "id": "MF8VqOHADfva",
        "colab_type": "text"
      },
      "source": [
        "## #2: `artists` Table\n",
        "#### Extract Data for Artists Table\n",
        "- Selecting columns artist ID, name, location, latitude, and longitude for `artists` table\n",
        "- Use `df.values` to select just the values from the dataframe\n",
        "- Convert the array to a list and set it to `artist_data`"
      ]
    },
    {
      "cell_type": "code",
      "metadata": {
        "editable": true,
        "id": "98MIDVEYDfvb",
        "colab_type": "code",
        "colab": {},
        "outputId": "21a78528-4c98-4442-cc0b-49038ff3258e"
      },
      "source": [
        "# Index to select the first (only) record in the dataframe\n",
        "artist_data = df[['artist_id','artist_name','artist_location','artist_latitude','artist_longitude']].values[0]\n",
        "artist_data"
      ],
      "execution_count": 0,
      "outputs": [
        {
          "output_type": "execute_result",
          "data": {
            "text/plain": [
              "array(['AR8IEZO1187B99055E', 'Marc Shaiman', '', nan, nan], dtype=object)"
            ]
          },
          "metadata": {
            "tags": []
          },
          "execution_count": 11
        }
      ]
    },
    {
      "cell_type": "markdown",
      "metadata": {
        "editable": true,
        "id": "vnBtthdeDfvg",
        "colab_type": "text"
      },
      "source": [
        "#### Insert Record into Artist Table\n",
        "- The `artist_table_insert` query in `sql_queries.py` will insert data into the `artists` table\n",
        "- Run the cell below to insert a record for this song's artist into the `artists` table\n",
        "- Make sure `artists` table was created/resetted in the sparkify database by `create_tables.py` before running the cell below"
      ]
    },
    {
      "cell_type": "code",
      "metadata": {
        "editable": true,
        "id": "QxynmP-3Dfvh",
        "colab_type": "code",
        "colab": {}
      },
      "source": [
        "cur.execute(artist_table_insert, artist_data)\n",
        "conn.commit()"
      ],
      "execution_count": 0,
      "outputs": []
    },
    {
      "cell_type": "markdown",
      "metadata": {
        "editable": true,
        "id": "toQNXgU_Dfvj",
        "colab_type": "text"
      },
      "source": [
        "Run `test.ipynb` to see if you've successfully added a record to this table."
      ]
    },
    {
      "cell_type": "markdown",
      "metadata": {
        "editable": true,
        "id": "yxShHYifDfvj",
        "colab_type": "text"
      },
      "source": [
        "# Process `log_data`\n",
        "Perform ETL on the second dataset, `log_data`, to create the `time` and `users` dimensional tables, the `songplays` fact table, then insert records into each table.\n",
        "\n",
        "- Use the `get_files` function above to get a list of all log JSON files in `data/log_data`\n",
        "- Read the log file and view the data"
      ]
    },
    {
      "cell_type": "code",
      "metadata": {
        "editable": true,
        "id": "GkA00PoSDfvk",
        "colab_type": "code",
        "colab": {}
      },
      "source": [
        "log_files = get_files('data/log_data')"
      ],
      "execution_count": 0,
      "outputs": []
    },
    {
      "cell_type": "code",
      "metadata": {
        "editable": true,
        "id": "9rIiEVq5Dfvo",
        "colab_type": "code",
        "colab": {},
        "outputId": "cd67c96d-0dfd-4edb-cf5d-451f8c4114a2"
      },
      "source": [
        "# The first log file in this list\n",
        "filepath_0 = log_files[0]\n",
        "df_0 = pd.read_json(filepath_0, lines=True)\n",
        "print(df_0.shape)\n",
        "df_0.head(1)"
      ],
      "execution_count": 0,
      "outputs": [
        {
          "output_type": "stream",
          "text": [
            "(366, 18)\n"
          ],
          "name": "stdout"
        },
        {
          "output_type": "execute_result",
          "data": {
            "text/html": [
              "<div>\n",
              "<style scoped>\n",
              "    .dataframe tbody tr th:only-of-type {\n",
              "        vertical-align: middle;\n",
              "    }\n",
              "\n",
              "    .dataframe tbody tr th {\n",
              "        vertical-align: top;\n",
              "    }\n",
              "\n",
              "    .dataframe thead th {\n",
              "        text-align: right;\n",
              "    }\n",
              "</style>\n",
              "<table border=\"1\" class=\"dataframe\">\n",
              "  <thead>\n",
              "    <tr style=\"text-align: right;\">\n",
              "      <th></th>\n",
              "      <th>artist</th>\n",
              "      <th>auth</th>\n",
              "      <th>firstName</th>\n",
              "      <th>gender</th>\n",
              "      <th>itemInSession</th>\n",
              "      <th>lastName</th>\n",
              "      <th>length</th>\n",
              "      <th>level</th>\n",
              "      <th>location</th>\n",
              "      <th>method</th>\n",
              "      <th>page</th>\n",
              "      <th>registration</th>\n",
              "      <th>sessionId</th>\n",
              "      <th>song</th>\n",
              "      <th>status</th>\n",
              "      <th>ts</th>\n",
              "      <th>userAgent</th>\n",
              "      <th>userId</th>\n",
              "    </tr>\n",
              "  </thead>\n",
              "  <tbody>\n",
              "    <tr>\n",
              "      <th>0</th>\n",
              "      <td>Sydney Youngblood</td>\n",
              "      <td>Logged In</td>\n",
              "      <td>Jacob</td>\n",
              "      <td>M</td>\n",
              "      <td>53</td>\n",
              "      <td>Klein</td>\n",
              "      <td>238.07955</td>\n",
              "      <td>paid</td>\n",
              "      <td>Tampa-St. Petersburg-Clearwater, FL</td>\n",
              "      <td>PUT</td>\n",
              "      <td>NextSong</td>\n",
              "      <td>1.540558e+12</td>\n",
              "      <td>954</td>\n",
              "      <td>Ain't No Sunshine</td>\n",
              "      <td>200</td>\n",
              "      <td>1543449657796</td>\n",
              "      <td>\"Mozilla/5.0 (Macintosh; Intel Mac OS X 10_9_4...</td>\n",
              "      <td>73</td>\n",
              "    </tr>\n",
              "  </tbody>\n",
              "</table>\n",
              "</div>"
            ],
            "text/plain": [
              "              artist       auth firstName gender  itemInSession lastName  \\\n",
              "0  Sydney Youngblood  Logged In     Jacob      M             53    Klein   \n",
              "\n",
              "      length level                             location method      page  \\\n",
              "0  238.07955  paid  Tampa-St. Petersburg-Clearwater, FL    PUT  NextSong   \n",
              "\n",
              "   registration  sessionId               song  status             ts  \\\n",
              "0  1.540558e+12        954  Ain't No Sunshine     200  1543449657796   \n",
              "\n",
              "                                           userAgent userId  \n",
              "0  \"Mozilla/5.0 (Macintosh; Intel Mac OS X 10_9_4...     73  "
            ]
          },
          "metadata": {
            "tags": []
          },
          "execution_count": 13
        }
      ]
    },
    {
      "cell_type": "code",
      "metadata": {
        "editable": true,
        "id": "OGL-hzqjDfvr",
        "colab_type": "code",
        "colab": {},
        "outputId": "7afab92c-1833-4800-eaf3-70ede975e6f0"
      },
      "source": [
        "# Combine all logs dataset\n",
        "df_list = []\n",
        "for filepath in log_files:\n",
        "    df = pd.read_json(filepath, lines=True)\n",
        "    df_list.append(df)\n",
        "df = pd.concat(df_list)\n",
        "print(df.shape)\n",
        "df.head()"
      ],
      "execution_count": 0,
      "outputs": [
        {
          "output_type": "stream",
          "text": [
            "(8056, 18)\n"
          ],
          "name": "stdout"
        },
        {
          "output_type": "execute_result",
          "data": {
            "text/html": [
              "<div>\n",
              "<style scoped>\n",
              "    .dataframe tbody tr th:only-of-type {\n",
              "        vertical-align: middle;\n",
              "    }\n",
              "\n",
              "    .dataframe tbody tr th {\n",
              "        vertical-align: top;\n",
              "    }\n",
              "\n",
              "    .dataframe thead th {\n",
              "        text-align: right;\n",
              "    }\n",
              "</style>\n",
              "<table border=\"1\" class=\"dataframe\">\n",
              "  <thead>\n",
              "    <tr style=\"text-align: right;\">\n",
              "      <th></th>\n",
              "      <th>artist</th>\n",
              "      <th>auth</th>\n",
              "      <th>firstName</th>\n",
              "      <th>gender</th>\n",
              "      <th>itemInSession</th>\n",
              "      <th>lastName</th>\n",
              "      <th>length</th>\n",
              "      <th>level</th>\n",
              "      <th>location</th>\n",
              "      <th>method</th>\n",
              "      <th>page</th>\n",
              "      <th>registration</th>\n",
              "      <th>sessionId</th>\n",
              "      <th>song</th>\n",
              "      <th>status</th>\n",
              "      <th>ts</th>\n",
              "      <th>userAgent</th>\n",
              "      <th>userId</th>\n",
              "    </tr>\n",
              "  </thead>\n",
              "  <tbody>\n",
              "    <tr>\n",
              "      <th>0</th>\n",
              "      <td>Sydney Youngblood</td>\n",
              "      <td>Logged In</td>\n",
              "      <td>Jacob</td>\n",
              "      <td>M</td>\n",
              "      <td>53</td>\n",
              "      <td>Klein</td>\n",
              "      <td>238.07955</td>\n",
              "      <td>paid</td>\n",
              "      <td>Tampa-St. Petersburg-Clearwater, FL</td>\n",
              "      <td>PUT</td>\n",
              "      <td>NextSong</td>\n",
              "      <td>1.540558e+12</td>\n",
              "      <td>954</td>\n",
              "      <td>Ain't No Sunshine</td>\n",
              "      <td>200</td>\n",
              "      <td>1543449657796</td>\n",
              "      <td>\"Mozilla/5.0 (Macintosh; Intel Mac OS X 10_9_4...</td>\n",
              "      <td>73</td>\n",
              "    </tr>\n",
              "    <tr>\n",
              "      <th>1</th>\n",
              "      <td>Gang Starr</td>\n",
              "      <td>Logged In</td>\n",
              "      <td>Layla</td>\n",
              "      <td>F</td>\n",
              "      <td>88</td>\n",
              "      <td>Griffin</td>\n",
              "      <td>151.92771</td>\n",
              "      <td>paid</td>\n",
              "      <td>Lake Havasu City-Kingman, AZ</td>\n",
              "      <td>PUT</td>\n",
              "      <td>NextSong</td>\n",
              "      <td>1.541057e+12</td>\n",
              "      <td>984</td>\n",
              "      <td>My Advice 2 You (Explicit)</td>\n",
              "      <td>200</td>\n",
              "      <td>1543449690796</td>\n",
              "      <td>\"Mozilla/5.0 (Windows NT 6.1; WOW64) AppleWebK...</td>\n",
              "      <td>24</td>\n",
              "    </tr>\n",
              "    <tr>\n",
              "      <th>2</th>\n",
              "      <td>3OH!3</td>\n",
              "      <td>Logged In</td>\n",
              "      <td>Layla</td>\n",
              "      <td>F</td>\n",
              "      <td>89</td>\n",
              "      <td>Griffin</td>\n",
              "      <td>192.52200</td>\n",
              "      <td>paid</td>\n",
              "      <td>Lake Havasu City-Kingman, AZ</td>\n",
              "      <td>PUT</td>\n",
              "      <td>NextSong</td>\n",
              "      <td>1.541057e+12</td>\n",
              "      <td>984</td>\n",
              "      <td>My First Kiss (Feat. Ke$ha) [Album Version]</td>\n",
              "      <td>200</td>\n",
              "      <td>1543449841796</td>\n",
              "      <td>\"Mozilla/5.0 (Windows NT 6.1; WOW64) AppleWebK...</td>\n",
              "      <td>24</td>\n",
              "    </tr>\n",
              "    <tr>\n",
              "      <th>3</th>\n",
              "      <td>RÃÂ¶yksopp</td>\n",
              "      <td>Logged In</td>\n",
              "      <td>Jacob</td>\n",
              "      <td>M</td>\n",
              "      <td>54</td>\n",
              "      <td>Klein</td>\n",
              "      <td>369.81506</td>\n",
              "      <td>paid</td>\n",
              "      <td>Tampa-St. Petersburg-Clearwater, FL</td>\n",
              "      <td>PUT</td>\n",
              "      <td>NextSong</td>\n",
              "      <td>1.540558e+12</td>\n",
              "      <td>954</td>\n",
              "      <td>The Girl and The Robot</td>\n",
              "      <td>200</td>\n",
              "      <td>1543449895796</td>\n",
              "      <td>\"Mozilla/5.0 (Macintosh; Intel Mac OS X 10_9_4...</td>\n",
              "      <td>73</td>\n",
              "    </tr>\n",
              "    <tr>\n",
              "      <th>4</th>\n",
              "      <td>Kajagoogoo</td>\n",
              "      <td>Logged In</td>\n",
              "      <td>Layla</td>\n",
              "      <td>F</td>\n",
              "      <td>90</td>\n",
              "      <td>Griffin</td>\n",
              "      <td>223.55546</td>\n",
              "      <td>paid</td>\n",
              "      <td>Lake Havasu City-Kingman, AZ</td>\n",
              "      <td>PUT</td>\n",
              "      <td>NextSong</td>\n",
              "      <td>1.541057e+12</td>\n",
              "      <td>984</td>\n",
              "      <td>Too Shy</td>\n",
              "      <td>200</td>\n",
              "      <td>1543450033796</td>\n",
              "      <td>\"Mozilla/5.0 (Windows NT 6.1; WOW64) AppleWebK...</td>\n",
              "      <td>24</td>\n",
              "    </tr>\n",
              "  </tbody>\n",
              "</table>\n",
              "</div>"
            ],
            "text/plain": [
              "              artist       auth firstName gender  itemInSession lastName  \\\n",
              "0  Sydney Youngblood  Logged In     Jacob      M             53    Klein   \n",
              "1         Gang Starr  Logged In     Layla      F             88  Griffin   \n",
              "2              3OH!3  Logged In     Layla      F             89  Griffin   \n",
              "3        RÃÂ¶yksopp  Logged In     Jacob      M             54    Klein   \n",
              "4         Kajagoogoo  Logged In     Layla      F             90  Griffin   \n",
              "\n",
              "      length level                             location method      page  \\\n",
              "0  238.07955  paid  Tampa-St. Petersburg-Clearwater, FL    PUT  NextSong   \n",
              "1  151.92771  paid         Lake Havasu City-Kingman, AZ    PUT  NextSong   \n",
              "2  192.52200  paid         Lake Havasu City-Kingman, AZ    PUT  NextSong   \n",
              "3  369.81506  paid  Tampa-St. Petersburg-Clearwater, FL    PUT  NextSong   \n",
              "4  223.55546  paid         Lake Havasu City-Kingman, AZ    PUT  NextSong   \n",
              "\n",
              "   registration  sessionId                                         song  \\\n",
              "0  1.540558e+12        954                            Ain't No Sunshine   \n",
              "1  1.541057e+12        984                   My Advice 2 You (Explicit)   \n",
              "2  1.541057e+12        984  My First Kiss (Feat. Ke$ha) [Album Version]   \n",
              "3  1.540558e+12        954                       The Girl and The Robot   \n",
              "4  1.541057e+12        984                                      Too Shy   \n",
              "\n",
              "   status             ts                                          userAgent  \\\n",
              "0     200  1543449657796  \"Mozilla/5.0 (Macintosh; Intel Mac OS X 10_9_4...   \n",
              "1     200  1543449690796  \"Mozilla/5.0 (Windows NT 6.1; WOW64) AppleWebK...   \n",
              "2     200  1543449841796  \"Mozilla/5.0 (Windows NT 6.1; WOW64) AppleWebK...   \n",
              "3     200  1543449895796  \"Mozilla/5.0 (Macintosh; Intel Mac OS X 10_9_4...   \n",
              "4     200  1543450033796  \"Mozilla/5.0 (Windows NT 6.1; WOW64) AppleWebK...   \n",
              "\n",
              "  userId  \n",
              "0     73  \n",
              "1     24  \n",
              "2     24  \n",
              "3     73  \n",
              "4     24  "
            ]
          },
          "metadata": {
            "tags": []
          },
          "execution_count": 50
        }
      ]
    },
    {
      "cell_type": "markdown",
      "metadata": {
        "id": "JkDF70RiH6Uw",
        "colab_type": "text"
      },
      "source": [
        "## Check for logs where users are listening to songs\n",
        "- Filter records by `NextSong` action\n",
        "- Also check for null values"
      ]
    },
    {
      "cell_type": "code",
      "metadata": {
        "editable": true,
        "id": "q0XeIXqTDfvt",
        "colab_type": "code",
        "colab": {},
        "outputId": "0f52a69b-610c-465e-8f6a-c8183fef3a14"
      },
      "source": [
        "df = df[df['page']=='NextSong']\n",
        "df.isnull().sum()"
      ],
      "execution_count": 0,
      "outputs": [
        {
          "output_type": "execute_result",
          "data": {
            "text/plain": [
              "artist           0\n",
              "auth             0\n",
              "firstName        0\n",
              "gender           0\n",
              "itemInSession    0\n",
              "lastName         0\n",
              "length           0\n",
              "level            0\n",
              "location         0\n",
              "method           0\n",
              "page             0\n",
              "registration     0\n",
              "sessionId        0\n",
              "song             0\n",
              "status           0\n",
              "ts               0\n",
              "userAgent        0\n",
              "userId           0\n",
              "dtype: int64"
            ]
          },
          "metadata": {
            "tags": []
          },
          "execution_count": 52
        }
      ]
    },
    {
      "cell_type": "markdown",
      "metadata": {
        "editable": true,
        "id": "CHrmFv_6Dfvx",
        "colab_type": "text"
      },
      "source": [
        "## #3: `time` Table\n",
        "#### Extract Data for Time Table\n",
        "- Selecting timestamp, hour, day, week of year, month, year, and weekday from the `ts` column for `time_data` table"
      ]
    },
    {
      "cell_type": "code",
      "metadata": {
        "editable": true,
        "id": "rAFg__tnDfvx",
        "colab_type": "code",
        "colab": {},
        "outputId": "e8e63b25-2d5b-4441-a150-73352e119213"
      },
      "source": [
        "# Show only logs where users are listening to a song\n",
        "df = df[df['page']=='NextSong']\n",
        "print(df.shape)\n",
        "df.head(1)"
      ],
      "execution_count": 0,
      "outputs": [
        {
          "output_type": "stream",
          "text": [
            "(319, 18)\n"
          ],
          "name": "stdout"
        },
        {
          "output_type": "execute_result",
          "data": {
            "text/html": [
              "<div>\n",
              "<style scoped>\n",
              "    .dataframe tbody tr th:only-of-type {\n",
              "        vertical-align: middle;\n",
              "    }\n",
              "\n",
              "    .dataframe tbody tr th {\n",
              "        vertical-align: top;\n",
              "    }\n",
              "\n",
              "    .dataframe thead th {\n",
              "        text-align: right;\n",
              "    }\n",
              "</style>\n",
              "<table border=\"1\" class=\"dataframe\">\n",
              "  <thead>\n",
              "    <tr style=\"text-align: right;\">\n",
              "      <th></th>\n",
              "      <th>artist</th>\n",
              "      <th>auth</th>\n",
              "      <th>firstName</th>\n",
              "      <th>gender</th>\n",
              "      <th>itemInSession</th>\n",
              "      <th>lastName</th>\n",
              "      <th>length</th>\n",
              "      <th>level</th>\n",
              "      <th>location</th>\n",
              "      <th>method</th>\n",
              "      <th>page</th>\n",
              "      <th>registration</th>\n",
              "      <th>sessionId</th>\n",
              "      <th>song</th>\n",
              "      <th>status</th>\n",
              "      <th>ts</th>\n",
              "      <th>userAgent</th>\n",
              "      <th>userId</th>\n",
              "    </tr>\n",
              "  </thead>\n",
              "  <tbody>\n",
              "    <tr>\n",
              "      <th>0</th>\n",
              "      <td>Sydney Youngblood</td>\n",
              "      <td>Logged In</td>\n",
              "      <td>Jacob</td>\n",
              "      <td>M</td>\n",
              "      <td>53</td>\n",
              "      <td>Klein</td>\n",
              "      <td>238.07955</td>\n",
              "      <td>paid</td>\n",
              "      <td>Tampa-St. Petersburg-Clearwater, FL</td>\n",
              "      <td>PUT</td>\n",
              "      <td>NextSong</td>\n",
              "      <td>1.540558e+12</td>\n",
              "      <td>954</td>\n",
              "      <td>Ain't No Sunshine</td>\n",
              "      <td>200</td>\n",
              "      <td>1543449657796</td>\n",
              "      <td>\"Mozilla/5.0 (Macintosh; Intel Mac OS X 10_9_4...</td>\n",
              "      <td>73</td>\n",
              "    </tr>\n",
              "  </tbody>\n",
              "</table>\n",
              "</div>"
            ],
            "text/plain": [
              "              artist       auth firstName gender  itemInSession lastName  \\\n",
              "0  Sydney Youngblood  Logged In     Jacob      M             53    Klein   \n",
              "\n",
              "      length level                             location method      page  \\\n",
              "0  238.07955  paid  Tampa-St. Petersburg-Clearwater, FL    PUT  NextSong   \n",
              "\n",
              "   registration  sessionId               song  status             ts  \\\n",
              "0  1.540558e+12        954  Ain't No Sunshine     200  1543449657796   \n",
              "\n",
              "                                           userAgent userId  \n",
              "0  \"Mozilla/5.0 (Macintosh; Intel Mac OS X 10_9_4...     73  "
            ]
          },
          "metadata": {
            "tags": []
          },
          "execution_count": 16
        }
      ]
    },
    {
      "cell_type": "code",
      "metadata": {
        "editable": true,
        "id": "Takqr-TrDfvz",
        "colab_type": "code",
        "colab": {},
        "outputId": "177549e2-3336-4734-874b-7f1d19605058"
      },
      "source": [
        "# convert timestamp column to datetime\n",
        "df['datetime'] = pd.to_datetime(df['ts'], unit='ms')\n",
        "df['hour'] = df['datetime'].dt.hour\n",
        "df['day'] = df['datetime'].dt.day\n",
        "df['week'] = df['datetime'].dt.week\n",
        "df['month'] = df['datetime'].dt.month\n",
        "df['year'] = df['datetime'].dt.year\n",
        "df['weekday'] = df['datetime'].dt.weekday\n",
        "df.head(1)"
      ],
      "execution_count": 0,
      "outputs": [
        {
          "output_type": "execute_result",
          "data": {
            "text/html": [
              "<div>\n",
              "<style scoped>\n",
              "    .dataframe tbody tr th:only-of-type {\n",
              "        vertical-align: middle;\n",
              "    }\n",
              "\n",
              "    .dataframe tbody tr th {\n",
              "        vertical-align: top;\n",
              "    }\n",
              "\n",
              "    .dataframe thead th {\n",
              "        text-align: right;\n",
              "    }\n",
              "</style>\n",
              "<table border=\"1\" class=\"dataframe\">\n",
              "  <thead>\n",
              "    <tr style=\"text-align: right;\">\n",
              "      <th></th>\n",
              "      <th>artist</th>\n",
              "      <th>auth</th>\n",
              "      <th>firstName</th>\n",
              "      <th>gender</th>\n",
              "      <th>itemInSession</th>\n",
              "      <th>lastName</th>\n",
              "      <th>length</th>\n",
              "      <th>level</th>\n",
              "      <th>location</th>\n",
              "      <th>method</th>\n",
              "      <th>page</th>\n",
              "      <th>registration</th>\n",
              "      <th>sessionId</th>\n",
              "      <th>song</th>\n",
              "      <th>status</th>\n",
              "      <th>ts</th>\n",
              "      <th>userAgent</th>\n",
              "      <th>userId</th>\n",
              "      <th>datetime</th>\n",
              "      <th>hour</th>\n",
              "      <th>day</th>\n",
              "      <th>week</th>\n",
              "      <th>month</th>\n",
              "      <th>year</th>\n",
              "      <th>weekday</th>\n",
              "    </tr>\n",
              "  </thead>\n",
              "  <tbody>\n",
              "    <tr>\n",
              "      <th>0</th>\n",
              "      <td>Sydney Youngblood</td>\n",
              "      <td>Logged In</td>\n",
              "      <td>Jacob</td>\n",
              "      <td>M</td>\n",
              "      <td>53</td>\n",
              "      <td>Klein</td>\n",
              "      <td>238.07955</td>\n",
              "      <td>paid</td>\n",
              "      <td>Tampa-St. Petersburg-Clearwater, FL</td>\n",
              "      <td>PUT</td>\n",
              "      <td>NextSong</td>\n",
              "      <td>1.540558e+12</td>\n",
              "      <td>954</td>\n",
              "      <td>Ain't No Sunshine</td>\n",
              "      <td>200</td>\n",
              "      <td>1543449657796</td>\n",
              "      <td>\"Mozilla/5.0 (Macintosh; Intel Mac OS X 10_9_4...</td>\n",
              "      <td>73</td>\n",
              "      <td>2018-11-29 00:00:57.796</td>\n",
              "      <td>0</td>\n",
              "      <td>29</td>\n",
              "      <td>48</td>\n",
              "      <td>11</td>\n",
              "      <td>2018</td>\n",
              "      <td>3</td>\n",
              "    </tr>\n",
              "  </tbody>\n",
              "</table>\n",
              "</div>"
            ],
            "text/plain": [
              "              artist       auth firstName gender  itemInSession lastName  \\\n",
              "0  Sydney Youngblood  Logged In     Jacob      M             53    Klein   \n",
              "\n",
              "      length level                             location method      page  \\\n",
              "0  238.07955  paid  Tampa-St. Petersburg-Clearwater, FL    PUT  NextSong   \n",
              "\n",
              "   registration  sessionId               song  status             ts  \\\n",
              "0  1.540558e+12        954  Ain't No Sunshine     200  1543449657796   \n",
              "\n",
              "                                           userAgent userId  \\\n",
              "0  \"Mozilla/5.0 (Macintosh; Intel Mac OS X 10_9_4...     73   \n",
              "\n",
              "                 datetime  hour  day  week  month  year  weekday  \n",
              "0 2018-11-29 00:00:57.796     0   29    48     11  2018        3  "
            ]
          },
          "metadata": {
            "tags": []
          },
          "execution_count": 17
        }
      ]
    },
    {
      "cell_type": "code",
      "metadata": {
        "editable": true,
        "id": "8feK3axzDfv3",
        "colab_type": "code",
        "colab": {}
      },
      "source": [
        "# set time_data to a list containing these values in order\n",
        "time_data = list(zip(list(df['ts']), list(t.dt.hour), list(t.dt.day), list(t.dt.week), list(t.dt.month), list(t.dt.year), list(t.dt.weekday)))\n",
        "# Specify labels for these columns and set to column_labels\n",
        "column_labels = ['start_time', 'hour', 'day', 'week', 'month', 'year', 'weekday']"
      ],
      "execution_count": 0,
      "outputs": []
    },
    {
      "cell_type": "markdown",
      "metadata": {
        "id": "4DLAO_qhIvI5",
        "colab_type": "text"
      },
      "source": [
        "Create a dataframe, `time_df,` containing the time data for this file"
      ]
    },
    {
      "cell_type": "code",
      "metadata": {
        "editable": true,
        "id": "qqZfm1eJDfv5",
        "colab_type": "code",
        "colab": {},
        "outputId": "128e7f77-5a62-4279-855f-8aa2f4fbaae3"
      },
      "source": [
        "time_df = pd.DataFrame(time_data, columns=column_labels, dtype=int)\n",
        "print(time_df.shape)\n",
        "time_df.head()"
      ],
      "execution_count": 0,
      "outputs": [
        {
          "output_type": "stream",
          "text": [
            "(319, 7)\n"
          ],
          "name": "stdout"
        },
        {
          "output_type": "execute_result",
          "data": {
            "text/html": [
              "<div>\n",
              "<style scoped>\n",
              "    .dataframe tbody tr th:only-of-type {\n",
              "        vertical-align: middle;\n",
              "    }\n",
              "\n",
              "    .dataframe tbody tr th {\n",
              "        vertical-align: top;\n",
              "    }\n",
              "\n",
              "    .dataframe thead th {\n",
              "        text-align: right;\n",
              "    }\n",
              "</style>\n",
              "<table border=\"1\" class=\"dataframe\">\n",
              "  <thead>\n",
              "    <tr style=\"text-align: right;\">\n",
              "      <th></th>\n",
              "      <th>start_time</th>\n",
              "      <th>hour</th>\n",
              "      <th>day</th>\n",
              "      <th>week</th>\n",
              "      <th>month</th>\n",
              "      <th>year</th>\n",
              "      <th>weekday</th>\n",
              "    </tr>\n",
              "  </thead>\n",
              "  <tbody>\n",
              "    <tr>\n",
              "      <th>0</th>\n",
              "      <td>1543449657796</td>\n",
              "      <td>0</td>\n",
              "      <td>29</td>\n",
              "      <td>48</td>\n",
              "      <td>11</td>\n",
              "      <td>2018</td>\n",
              "      <td>3</td>\n",
              "    </tr>\n",
              "    <tr>\n",
              "      <th>1</th>\n",
              "      <td>1543449690796</td>\n",
              "      <td>0</td>\n",
              "      <td>29</td>\n",
              "      <td>48</td>\n",
              "      <td>11</td>\n",
              "      <td>2018</td>\n",
              "      <td>3</td>\n",
              "    </tr>\n",
              "    <tr>\n",
              "      <th>2</th>\n",
              "      <td>1543449841796</td>\n",
              "      <td>0</td>\n",
              "      <td>29</td>\n",
              "      <td>48</td>\n",
              "      <td>11</td>\n",
              "      <td>2018</td>\n",
              "      <td>3</td>\n",
              "    </tr>\n",
              "    <tr>\n",
              "      <th>3</th>\n",
              "      <td>1543449895796</td>\n",
              "      <td>0</td>\n",
              "      <td>29</td>\n",
              "      <td>48</td>\n",
              "      <td>11</td>\n",
              "      <td>2018</td>\n",
              "      <td>3</td>\n",
              "    </tr>\n",
              "    <tr>\n",
              "      <th>4</th>\n",
              "      <td>1543450033796</td>\n",
              "      <td>0</td>\n",
              "      <td>29</td>\n",
              "      <td>48</td>\n",
              "      <td>11</td>\n",
              "      <td>2018</td>\n",
              "      <td>3</td>\n",
              "    </tr>\n",
              "  </tbody>\n",
              "</table>\n",
              "</div>"
            ],
            "text/plain": [
              "      start_time  hour  day  week  month  year  weekday\n",
              "0  1543449657796     0   29    48     11  2018        3\n",
              "1  1543449690796     0   29    48     11  2018        3\n",
              "2  1543449841796     0   29    48     11  2018        3\n",
              "3  1543449895796     0   29    48     11  2018        3\n",
              "4  1543450033796     0   29    48     11  2018        3"
            ]
          },
          "metadata": {
            "tags": []
          },
          "execution_count": 33
        }
      ]
    },
    {
      "cell_type": "code",
      "metadata": {
        "editable": true,
        "id": "zQRSAQP6Dfv7",
        "colab_type": "code",
        "colab": {},
        "outputId": "83700361-6ab0-4104-f38c-3d398eb7debd"
      },
      "source": [
        "time_df = df[['ts', 'hour', 'day', 'week', 'month', 'year', 'weekday']]\n",
        "time_df = time_df.rename(columns={'ts':'start_time'})\n",
        "print(time_df.shape)\n",
        "time_df.head(1)"
      ],
      "execution_count": 0,
      "outputs": [
        {
          "output_type": "stream",
          "text": [
            "(319, 7)\n"
          ],
          "name": "stdout"
        },
        {
          "output_type": "execute_result",
          "data": {
            "text/html": [
              "<div>\n",
              "<style scoped>\n",
              "    .dataframe tbody tr th:only-of-type {\n",
              "        vertical-align: middle;\n",
              "    }\n",
              "\n",
              "    .dataframe tbody tr th {\n",
              "        vertical-align: top;\n",
              "    }\n",
              "\n",
              "    .dataframe thead th {\n",
              "        text-align: right;\n",
              "    }\n",
              "</style>\n",
              "<table border=\"1\" class=\"dataframe\">\n",
              "  <thead>\n",
              "    <tr style=\"text-align: right;\">\n",
              "      <th></th>\n",
              "      <th>start_time</th>\n",
              "      <th>hour</th>\n",
              "      <th>day</th>\n",
              "      <th>week</th>\n",
              "      <th>month</th>\n",
              "      <th>year</th>\n",
              "      <th>weekday</th>\n",
              "    </tr>\n",
              "  </thead>\n",
              "  <tbody>\n",
              "    <tr>\n",
              "      <th>0</th>\n",
              "      <td>1543449657796</td>\n",
              "      <td>0</td>\n",
              "      <td>29</td>\n",
              "      <td>48</td>\n",
              "      <td>11</td>\n",
              "      <td>2018</td>\n",
              "      <td>3</td>\n",
              "    </tr>\n",
              "  </tbody>\n",
              "</table>\n",
              "</div>"
            ],
            "text/plain": [
              "      start_time  hour  day  week  month  year  weekday\n",
              "0  1543449657796     0   29    48     11  2018        3"
            ]
          },
          "metadata": {
            "tags": []
          },
          "execution_count": 19
        }
      ]
    },
    {
      "cell_type": "markdown",
      "metadata": {
        "id": "55E3aiJ6KQjt",
        "colab_type": "text"
      },
      "source": [
        "### Data Quality Check\n",
        "- Set Data types if needed\n",
        "- Remove Duplicates"
      ]
    },
    {
      "cell_type": "code",
      "metadata": {
        "editable": true,
        "id": "1ybfCdpdDfv-",
        "colab_type": "code",
        "colab": {},
        "outputId": "6943ab0b-122d-4350-a575-de7bc921c400"
      },
      "source": [
        "time_df.dtypes"
      ],
      "execution_count": 0,
      "outputs": [
        {
          "output_type": "execute_result",
          "data": {
            "text/plain": [
              "start_time    int64\n",
              "hour          int64\n",
              "day           int64\n",
              "week          int64\n",
              "month         int64\n",
              "year          int64\n",
              "weekday       int64\n",
              "dtype: object"
            ]
          },
          "metadata": {
            "tags": []
          },
          "execution_count": 20
        }
      ]
    },
    {
      "cell_type": "code",
      "metadata": {
        "editable": true,
        "id": "izGyJq7lDfwA",
        "colab_type": "code",
        "colab": {},
        "outputId": "ee2e808d-5971-4622-e31d-14b613006f4d"
      },
      "source": [
        "time_df.duplicated('start_time').value_counts()"
      ],
      "execution_count": 0,
      "outputs": [
        {
          "output_type": "execute_result",
          "data": {
            "text/plain": [
              "False    319\n",
              "dtype: int64"
            ]
          },
          "metadata": {
            "tags": []
          },
          "execution_count": 21
        }
      ]
    },
    {
      "cell_type": "code",
      "metadata": {
        "editable": true,
        "id": "Du00Uax0DfwC",
        "colab_type": "code",
        "colab": {},
        "outputId": "f77e3dcd-9a67-411a-b80a-1038268390a8"
      },
      "source": [
        "# Drop all duplicates on column 'start_time'\n",
        "time_df = time_df.drop_duplicates(subset=['start_time'], keep=False)\n",
        "time_df.shape"
      ],
      "execution_count": 0,
      "outputs": [
        {
          "output_type": "execute_result",
          "data": {
            "text/plain": [
              "(319, 7)"
            ]
          },
          "metadata": {
            "tags": []
          },
          "execution_count": 22
        }
      ]
    },
    {
      "cell_type": "markdown",
      "metadata": {
        "editable": true,
        "id": "WCVxAXfZDfwE",
        "colab_type": "text"
      },
      "source": [
        "#### Insert Records into Time Table\n",
        "- The `time_table_insert` query in `sql_queries.py` will insert data into the `time` table\n",
        "- Make sure `time` table was created/resetted in the sparkify database by `create_tables.py` before running the cell below"
      ]
    },
    {
      "cell_type": "code",
      "metadata": {
        "editable": true,
        "id": "Kfv0DNLrDfwE",
        "colab_type": "code",
        "colab": {}
      },
      "source": [
        "!pip install psycopg2-binary"
      ],
      "execution_count": 0,
      "outputs": []
    },
    {
      "cell_type": "code",
      "metadata": {
        "editable": true,
        "id": "3Caq3TTnDfwI",
        "colab_type": "code",
        "colab": {}
      },
      "source": [
        "# Append entire dataframe to postgres database table\n",
        "\n",
        "from sqlalchemy import create_engine\n",
        "url = f\"postgres://{user}:{password}@{host}:5432/{dbname}\"\n",
        "engine = create_engine(url)\n",
        "time_df.to_sql(name=\"time\", con=engine, if_exists=\"append\", index=False)"
      ],
      "execution_count": 0,
      "outputs": []
    },
    {
      "cell_type": "markdown",
      "metadata": {
        "id": "xQ6kTA0fKuEo",
        "colab_type": "text"
      },
      "source": [
        "Run the cell below to insert records by row for the timestamps in this log file into the `time` table"
      ]
    },
    {
      "cell_type": "code",
      "metadata": {
        "editable": true,
        "id": "25MXhYJ9DfwK",
        "colab_type": "code",
        "colab": {}
      },
      "source": [
        "for i, row in time_df.iterrows():\n",
        "    cur.execute(time_table_insert, list(row))\n",
        "    conn.commit()"
      ],
      "execution_count": 0,
      "outputs": []
    },
    {
      "cell_type": "markdown",
      "metadata": {
        "editable": true,
        "id": "VXfiOrG7DfwN",
        "colab_type": "text"
      },
      "source": [
        "Run `test.ipynb` to see if you've successfully added records to this table."
      ]
    },
    {
      "cell_type": "markdown",
      "metadata": {
        "editable": true,
        "id": "2E0f1sI2DfwN",
        "colab_type": "text"
      },
      "source": [
        "## #4: `users` Table\n",
        "#### Extract Data for Users Table\n",
        "- Selecting columns user ID, first name, last name, gender and level for `users` table"
      ]
    },
    {
      "cell_type": "code",
      "metadata": {
        "editable": true,
        "id": "ilAAXGIsDfwO",
        "colab_type": "code",
        "colab": {},
        "outputId": "aa6009f9-e200-45b9-c71c-a070c936de26"
      },
      "source": [
        "df[\"userId\"] = pd.to_numeric(df[\"userId\"])\n",
        "user_df = df[['userId','firstName','lastName','gender','level']]\n",
        "user_df = user_df.rename(columns={'userId':'user_id','firstName':'first_name','lastName':'last_name'})\n",
        "print(user_df.shape)\n",
        "user_df.head(2)"
      ],
      "execution_count": 0,
      "outputs": [
        {
          "output_type": "stream",
          "text": [
            "(319, 5)\n"
          ],
          "name": "stdout"
        },
        {
          "output_type": "execute_result",
          "data": {
            "text/html": [
              "<div>\n",
              "<style scoped>\n",
              "    .dataframe tbody tr th:only-of-type {\n",
              "        vertical-align: middle;\n",
              "    }\n",
              "\n",
              "    .dataframe tbody tr th {\n",
              "        vertical-align: top;\n",
              "    }\n",
              "\n",
              "    .dataframe thead th {\n",
              "        text-align: right;\n",
              "    }\n",
              "</style>\n",
              "<table border=\"1\" class=\"dataframe\">\n",
              "  <thead>\n",
              "    <tr style=\"text-align: right;\">\n",
              "      <th></th>\n",
              "      <th>user_id</th>\n",
              "      <th>first_name</th>\n",
              "      <th>last_name</th>\n",
              "      <th>gender</th>\n",
              "      <th>level</th>\n",
              "    </tr>\n",
              "  </thead>\n",
              "  <tbody>\n",
              "    <tr>\n",
              "      <th>0</th>\n",
              "      <td>73</td>\n",
              "      <td>Jacob</td>\n",
              "      <td>Klein</td>\n",
              "      <td>M</td>\n",
              "      <td>paid</td>\n",
              "    </tr>\n",
              "    <tr>\n",
              "      <th>1</th>\n",
              "      <td>24</td>\n",
              "      <td>Layla</td>\n",
              "      <td>Griffin</td>\n",
              "      <td>F</td>\n",
              "      <td>paid</td>\n",
              "    </tr>\n",
              "  </tbody>\n",
              "</table>\n",
              "</div>"
            ],
            "text/plain": [
              "   user_id first_name last_name gender level\n",
              "0       73      Jacob     Klein      M  paid\n",
              "1       24      Layla   Griffin      F  paid"
            ]
          },
          "metadata": {
            "tags": []
          },
          "execution_count": 26
        }
      ]
    },
    {
      "cell_type": "code",
      "metadata": {
        "editable": true,
        "id": "ZRZPsxqfDfwR",
        "colab_type": "code",
        "colab": {},
        "outputId": "33e0c633-4233-4c26-9f3e-575bacf8b470"
      },
      "source": [
        "user_df.dtypes"
      ],
      "execution_count": 0,
      "outputs": [
        {
          "output_type": "execute_result",
          "data": {
            "text/plain": [
              "user_id        int64\n",
              "first_name    object\n",
              "last_name     object\n",
              "gender        object\n",
              "level         object\n",
              "dtype: object"
            ]
          },
          "metadata": {
            "tags": []
          },
          "execution_count": 27
        }
      ]
    },
    {
      "cell_type": "markdown",
      "metadata": {
        "editable": true,
        "id": "REDVWMYxDfwX",
        "colab_type": "text"
      },
      "source": [
        "#### Insert Records into Users Table\n",
        "\n",
        "- The `user_table_insert` query in sql_queries.py will insert data into the `users` table\n",
        "- Make sure `users` table was created/resetted in the sparkify database by `create_tables.py` before running the cell below\n"
      ]
    },
    {
      "cell_type": "markdown",
      "metadata": {
        "id": "eSSNDN7uMjG_",
        "colab_type": "text"
      },
      "source": [
        "**Data Quality Check** - remove duplicate user id"
      ]
    },
    {
      "cell_type": "code",
      "metadata": {
        "editable": true,
        "id": "14F6wMnvDfwX",
        "colab_type": "code",
        "colab": {},
        "outputId": "8d4f1816-893e-481e-ba90-dfa7e5596289"
      },
      "source": [
        "# Drop duplicates except for the last occurrence on column 'userId'\n",
        "user_df_dd = user_df.drop_duplicates(subset=['user_id'], keep='last')\n",
        "print(user_df_dd.shape)\n",
        "user_df_dd"
      ],
      "execution_count": 0,
      "outputs": [
        {
          "output_type": "stream",
          "text": [
            "(27, 5)\n"
          ],
          "name": "stdout"
        },
        {
          "output_type": "execute_result",
          "data": {
            "text/html": [
              "<div>\n",
              "<style scoped>\n",
              "    .dataframe tbody tr th:only-of-type {\n",
              "        vertical-align: middle;\n",
              "    }\n",
              "\n",
              "    .dataframe tbody tr th {\n",
              "        vertical-align: top;\n",
              "    }\n",
              "\n",
              "    .dataframe thead th {\n",
              "        text-align: right;\n",
              "    }\n",
              "</style>\n",
              "<table border=\"1\" class=\"dataframe\">\n",
              "  <thead>\n",
              "    <tr style=\"text-align: right;\">\n",
              "      <th></th>\n",
              "      <th>user_id</th>\n",
              "      <th>first_name</th>\n",
              "      <th>last_name</th>\n",
              "      <th>gender</th>\n",
              "      <th>level</th>\n",
              "    </tr>\n",
              "  </thead>\n",
              "  <tbody>\n",
              "    <tr>\n",
              "      <th>7</th>\n",
              "      <td>73</td>\n",
              "      <td>Jacob</td>\n",
              "      <td>Klein</td>\n",
              "      <td>M</td>\n",
              "      <td>paid</td>\n",
              "    </tr>\n",
              "    <tr>\n",
              "      <th>21</th>\n",
              "      <td>50</td>\n",
              "      <td>Ava</td>\n",
              "      <td>Robinson</td>\n",
              "      <td>F</td>\n",
              "      <td>free</td>\n",
              "    </tr>\n",
              "    <tr>\n",
              "      <th>34</th>\n",
              "      <td>24</td>\n",
              "      <td>Layla</td>\n",
              "      <td>Griffin</td>\n",
              "      <td>F</td>\n",
              "      <td>paid</td>\n",
              "    </tr>\n",
              "    <tr>\n",
              "      <th>39</th>\n",
              "      <td>54</td>\n",
              "      <td>Kaleb</td>\n",
              "      <td>Cook</td>\n",
              "      <td>M</td>\n",
              "      <td>free</td>\n",
              "    </tr>\n",
              "    <tr>\n",
              "      <th>47</th>\n",
              "      <td>14</td>\n",
              "      <td>Theodore</td>\n",
              "      <td>Harris</td>\n",
              "      <td>M</td>\n",
              "      <td>free</td>\n",
              "    </tr>\n",
              "    <tr>\n",
              "      <th>49</th>\n",
              "      <td>98</td>\n",
              "      <td>Jordyn</td>\n",
              "      <td>Powell</td>\n",
              "      <td>F</td>\n",
              "      <td>free</td>\n",
              "    </tr>\n",
              "    <tr>\n",
              "      <th>53</th>\n",
              "      <td>78</td>\n",
              "      <td>Chloe</td>\n",
              "      <td>Roth</td>\n",
              "      <td>F</td>\n",
              "      <td>free</td>\n",
              "    </tr>\n",
              "    <tr>\n",
              "      <th>55</th>\n",
              "      <td>101</td>\n",
              "      <td>Jayden</td>\n",
              "      <td>Fox</td>\n",
              "      <td>M</td>\n",
              "      <td>free</td>\n",
              "    </tr>\n",
              "    <tr>\n",
              "      <th>56</th>\n",
              "      <td>10</td>\n",
              "      <td>Sylvie</td>\n",
              "      <td>Cruz</td>\n",
              "      <td>F</td>\n",
              "      <td>free</td>\n",
              "    </tr>\n",
              "    <tr>\n",
              "      <th>57</th>\n",
              "      <td>52</td>\n",
              "      <td>Theodore</td>\n",
              "      <td>Smith</td>\n",
              "      <td>M</td>\n",
              "      <td>free</td>\n",
              "    </tr>\n",
              "    <tr>\n",
              "      <th>89</th>\n",
              "      <td>32</td>\n",
              "      <td>Lily</td>\n",
              "      <td>Burns</td>\n",
              "      <td>F</td>\n",
              "      <td>free</td>\n",
              "    </tr>\n",
              "    <tr>\n",
              "      <th>95</th>\n",
              "      <td>79</td>\n",
              "      <td>James</td>\n",
              "      <td>Martin</td>\n",
              "      <td>M</td>\n",
              "      <td>free</td>\n",
              "    </tr>\n",
              "    <tr>\n",
              "      <th>108</th>\n",
              "      <td>26</td>\n",
              "      <td>Ryan</td>\n",
              "      <td>Smith</td>\n",
              "      <td>M</td>\n",
              "      <td>free</td>\n",
              "    </tr>\n",
              "    <tr>\n",
              "      <th>171</th>\n",
              "      <td>4</td>\n",
              "      <td>Alivia</td>\n",
              "      <td>Terrell</td>\n",
              "      <td>F</td>\n",
              "      <td>free</td>\n",
              "    </tr>\n",
              "    <tr>\n",
              "      <th>204</th>\n",
              "      <td>39</td>\n",
              "      <td>Walter</td>\n",
              "      <td>Frye</td>\n",
              "      <td>M</td>\n",
              "      <td>free</td>\n",
              "    </tr>\n",
              "    <tr>\n",
              "      <th>206</th>\n",
              "      <td>75</td>\n",
              "      <td>Joseph</td>\n",
              "      <td>Gutierrez</td>\n",
              "      <td>M</td>\n",
              "      <td>free</td>\n",
              "    </tr>\n",
              "    <tr>\n",
              "      <th>226</th>\n",
              "      <td>44</td>\n",
              "      <td>Aleena</td>\n",
              "      <td>Kirby</td>\n",
              "      <td>F</td>\n",
              "      <td>paid</td>\n",
              "    </tr>\n",
              "    <tr>\n",
              "      <th>278</th>\n",
              "      <td>82</td>\n",
              "      <td>Avery</td>\n",
              "      <td>Martinez</td>\n",
              "      <td>F</td>\n",
              "      <td>paid</td>\n",
              "    </tr>\n",
              "    <tr>\n",
              "      <th>283</th>\n",
              "      <td>16</td>\n",
              "      <td>Rylan</td>\n",
              "      <td>George</td>\n",
              "      <td>M</td>\n",
              "      <td>paid</td>\n",
              "    </tr>\n",
              "    <tr>\n",
              "      <th>324</th>\n",
              "      <td>55</td>\n",
              "      <td>Martin</td>\n",
              "      <td>Johnson</td>\n",
              "      <td>M</td>\n",
              "      <td>free</td>\n",
              "    </tr>\n",
              "    <tr>\n",
              "      <th>328</th>\n",
              "      <td>12</td>\n",
              "      <td>Austin</td>\n",
              "      <td>Rosales</td>\n",
              "      <td>M</td>\n",
              "      <td>free</td>\n",
              "    </tr>\n",
              "    <tr>\n",
              "      <th>334</th>\n",
              "      <td>49</td>\n",
              "      <td>Chloe</td>\n",
              "      <td>Cuevas</td>\n",
              "      <td>F</td>\n",
              "      <td>paid</td>\n",
              "    </tr>\n",
              "    <tr>\n",
              "      <th>337</th>\n",
              "      <td>9</td>\n",
              "      <td>Wyatt</td>\n",
              "      <td>Scott</td>\n",
              "      <td>M</td>\n",
              "      <td>free</td>\n",
              "    </tr>\n",
              "    <tr>\n",
              "      <th>348</th>\n",
              "      <td>22</td>\n",
              "      <td>Sean</td>\n",
              "      <td>Wilson</td>\n",
              "      <td>F</td>\n",
              "      <td>free</td>\n",
              "    </tr>\n",
              "    <tr>\n",
              "      <th>359</th>\n",
              "      <td>74</td>\n",
              "      <td>Braden</td>\n",
              "      <td>Parker</td>\n",
              "      <td>M</td>\n",
              "      <td>free</td>\n",
              "    </tr>\n",
              "    <tr>\n",
              "      <th>364</th>\n",
              "      <td>80</td>\n",
              "      <td>Tegan</td>\n",
              "      <td>Levine</td>\n",
              "      <td>F</td>\n",
              "      <td>paid</td>\n",
              "    </tr>\n",
              "    <tr>\n",
              "      <th>365</th>\n",
              "      <td>89</td>\n",
              "      <td>Kynnedi</td>\n",
              "      <td>Sanchez</td>\n",
              "      <td>F</td>\n",
              "      <td>free</td>\n",
              "    </tr>\n",
              "  </tbody>\n",
              "</table>\n",
              "</div>"
            ],
            "text/plain": [
              "     user_id first_name  last_name gender level\n",
              "7         73      Jacob      Klein      M  paid\n",
              "21        50        Ava   Robinson      F  free\n",
              "34        24      Layla    Griffin      F  paid\n",
              "39        54      Kaleb       Cook      M  free\n",
              "47        14   Theodore     Harris      M  free\n",
              "49        98     Jordyn     Powell      F  free\n",
              "53        78      Chloe       Roth      F  free\n",
              "55       101     Jayden        Fox      M  free\n",
              "56        10     Sylvie       Cruz      F  free\n",
              "57        52   Theodore      Smith      M  free\n",
              "89        32       Lily      Burns      F  free\n",
              "95        79      James     Martin      M  free\n",
              "108       26       Ryan      Smith      M  free\n",
              "171        4     Alivia    Terrell      F  free\n",
              "204       39     Walter       Frye      M  free\n",
              "206       75     Joseph  Gutierrez      M  free\n",
              "226       44     Aleena      Kirby      F  paid\n",
              "278       82      Avery   Martinez      F  paid\n",
              "283       16      Rylan     George      M  paid\n",
              "324       55     Martin    Johnson      M  free\n",
              "328       12     Austin    Rosales      M  free\n",
              "334       49      Chloe     Cuevas      F  paid\n",
              "337        9      Wyatt      Scott      M  free\n",
              "348       22       Sean     Wilson      F  free\n",
              "359       74     Braden     Parker      M  free\n",
              "364       80      Tegan     Levine      F  paid\n",
              "365       89    Kynnedi    Sanchez      F  free"
            ]
          },
          "metadata": {
            "tags": []
          },
          "execution_count": 29
        }
      ]
    },
    {
      "cell_type": "code",
      "metadata": {
        "editable": true,
        "id": "Gm1GGFkVDfwZ",
        "colab_type": "code",
        "colab": {}
      },
      "source": [
        "# Append entire dataframe to postgres database table\n",
        "# url = f\"postgres://{user}:{password}@{host}:5432/{dbname}\"\n",
        "# engine = create_engine(url)\n",
        "# user_df_dd.to_sql(name=\"users\", con=engine, if_exists=\"append\", index=False)"
      ],
      "execution_count": 0,
      "outputs": []
    },
    {
      "cell_type": "code",
      "metadata": {
        "editable": true,
        "id": "dC_h8IpQDfwb",
        "colab_type": "code",
        "colab": {}
      },
      "source": [
        "for i, row in user_df.iterrows():\n",
        "    cur.execute(user_table_insert, row)\n",
        "    conn.commit()"
      ],
      "execution_count": 0,
      "outputs": []
    },
    {
      "cell_type": "markdown",
      "metadata": {
        "editable": true,
        "id": "dcWQLQLhDfwe",
        "colab_type": "text"
      },
      "source": [
        "Run `test.ipynb` to see if you've successfully added records to this table."
      ]
    },
    {
      "cell_type": "markdown",
      "metadata": {
        "editable": true,
        "id": "SL8YD_QJDfwf",
        "colab_type": "text"
      },
      "source": [
        "## #5: `songplays` Table\n",
        "#### Extract Data and Songplays Table\n",
        "Since the log file does not specify an ID for either the song or the artist, we got the song ID and artist ID by querying the songs and artists tables to find matches based on song title, artist name, and song duration time.\n",
        "- The `song_select` query in `sql_queries.py` will find the song ID and artist ID based on the title, artist name, and duration of a song\n",
        "- Selecting columns timestamp, user ID, level, song ID, artist ID, session ID, location, and user agent for `songplay_data` table\n",
        "\n",
        "#### Insert Records into Songplays Table\n",
        "- The `songplay_table_insert` query will insert records for the songplay actions in this log file into the `songplays` table\n",
        "- Make sure `songplays` table was created/resetted in the sparkify database by `create_tables.py` before running the cell below"
      ]
    },
    {
      "cell_type": "code",
      "metadata": {
        "editable": true,
        "id": "4rMgKHO8Dfwg",
        "colab_type": "code",
        "colab": {},
        "outputId": "72c9742e-032d-4ce4-b442-156923fb6441"
      },
      "source": [
        "df.head(1)"
      ],
      "execution_count": 0,
      "outputs": [
        {
          "output_type": "execute_result",
          "data": {
            "text/html": [
              "<div>\n",
              "<style scoped>\n",
              "    .dataframe tbody tr th:only-of-type {\n",
              "        vertical-align: middle;\n",
              "    }\n",
              "\n",
              "    .dataframe tbody tr th {\n",
              "        vertical-align: top;\n",
              "    }\n",
              "\n",
              "    .dataframe thead th {\n",
              "        text-align: right;\n",
              "    }\n",
              "</style>\n",
              "<table border=\"1\" class=\"dataframe\">\n",
              "  <thead>\n",
              "    <tr style=\"text-align: right;\">\n",
              "      <th></th>\n",
              "      <th>artist</th>\n",
              "      <th>auth</th>\n",
              "      <th>firstName</th>\n",
              "      <th>gender</th>\n",
              "      <th>itemInSession</th>\n",
              "      <th>lastName</th>\n",
              "      <th>length</th>\n",
              "      <th>level</th>\n",
              "      <th>location</th>\n",
              "      <th>method</th>\n",
              "      <th>page</th>\n",
              "      <th>registration</th>\n",
              "      <th>sessionId</th>\n",
              "      <th>song</th>\n",
              "      <th>status</th>\n",
              "      <th>ts</th>\n",
              "      <th>userAgent</th>\n",
              "      <th>userId</th>\n",
              "      <th>datetime</th>\n",
              "      <th>hour</th>\n",
              "      <th>day</th>\n",
              "      <th>week</th>\n",
              "      <th>month</th>\n",
              "      <th>year</th>\n",
              "      <th>weekday</th>\n",
              "    </tr>\n",
              "  </thead>\n",
              "  <tbody>\n",
              "    <tr>\n",
              "      <th>0</th>\n",
              "      <td>Sydney Youngblood</td>\n",
              "      <td>Logged In</td>\n",
              "      <td>Jacob</td>\n",
              "      <td>M</td>\n",
              "      <td>53</td>\n",
              "      <td>Klein</td>\n",
              "      <td>238.07955</td>\n",
              "      <td>paid</td>\n",
              "      <td>Tampa-St. Petersburg-Clearwater, FL</td>\n",
              "      <td>PUT</td>\n",
              "      <td>NextSong</td>\n",
              "      <td>1.540558e+12</td>\n",
              "      <td>954</td>\n",
              "      <td>Ain't No Sunshine</td>\n",
              "      <td>200</td>\n",
              "      <td>1543449657796</td>\n",
              "      <td>\"Mozilla/5.0 (Macintosh; Intel Mac OS X 10_9_4...</td>\n",
              "      <td>73</td>\n",
              "      <td>2018-11-29 00:00:57.796</td>\n",
              "      <td>0</td>\n",
              "      <td>29</td>\n",
              "      <td>48</td>\n",
              "      <td>11</td>\n",
              "      <td>2018</td>\n",
              "      <td>3</td>\n",
              "    </tr>\n",
              "  </tbody>\n",
              "</table>\n",
              "</div>"
            ],
            "text/plain": [
              "              artist       auth firstName gender  itemInSession lastName  \\\n",
              "0  Sydney Youngblood  Logged In     Jacob      M             53    Klein   \n",
              "\n",
              "      length level                             location method      page  \\\n",
              "0  238.07955  paid  Tampa-St. Petersburg-Clearwater, FL    PUT  NextSong   \n",
              "\n",
              "   registration  sessionId               song  status             ts  \\\n",
              "0  1.540558e+12        954  Ain't No Sunshine     200  1543449657796   \n",
              "\n",
              "                                           userAgent  userId  \\\n",
              "0  \"Mozilla/5.0 (Macintosh; Intel Mac OS X 10_9_4...      73   \n",
              "\n",
              "                 datetime  hour  day  week  month  year  weekday  \n",
              "0 2018-11-29 00:00:57.796     0   29    48     11  2018        3  "
            ]
          },
          "metadata": {
            "tags": []
          },
          "execution_count": 32
        }
      ]
    },
    {
      "cell_type": "code",
      "metadata": {
        "editable": true,
        "id": "6uQq3Yw_Dfwn",
        "colab_type": "code",
        "colab": {}
      },
      "source": [
        "for index, row in df.iterrows():\n",
        "\n",
        "    # Get songid and artistid from song and artist tables\n",
        "    cur.execute(song_select, (row.song, row.artist, row.length))\n",
        "    results = cur.fetchone()\n",
        "    \n",
        "    # If song id and artist id not found, set as 'None'\n",
        "    if results:\n",
        "        songid, artistid = results\n",
        "    else:\n",
        "        songid, artistid = None, None\n",
        "\n",
        "    # songplay_table_insert - imported from sql_queries.py\n",
        "    songplay_data = (row.ts, row.userId, row.level, songid, artistid, row.sessionId, row.location, row.userAgent)\n",
        "    cur.execute(songplay_table_insert, songplay_data)\n",
        "    conn.commit()"
      ],
      "execution_count": 0,
      "outputs": []
    },
    {
      "cell_type": "markdown",
      "metadata": {
        "editable": true,
        "id": "7I1S94hjDfwp",
        "colab_type": "text"
      },
      "source": [
        "Run `test.ipynb` to see if you've successfully added records to this table."
      ]
    },
    {
      "cell_type": "markdown",
      "metadata": {
        "editable": true,
        "id": "t-o73SlVDfwr",
        "colab_type": "text"
      },
      "source": [
        "# Close Connection to Sparkify Database"
      ]
    },
    {
      "cell_type": "code",
      "metadata": {
        "editable": true,
        "id": "Xn0HARR5Dfwr",
        "colab_type": "code",
        "colab": {}
      },
      "source": [
        "conn.close()"
      ],
      "execution_count": 0,
      "outputs": []
    }
  ]
}